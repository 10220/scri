{
 "cells": [
  {
   "cell_type": "markdown",
   "metadata": {},
   "source": [
    "Starting from input parameters `sigma0`, `sigmadot0`, `sigmaddot0`, `psi2`, `psi1`, and `psi0`, representing the corresponding values of the Bondi data at time $u=0$, we want to integrate the initial-value problem to find all the Bondi data at all times.  We start with\n",
    "\\begin{equation}\n",
    "  \\sigma = \\texttt{sigma0} + u\\,\\texttt{sigmadot0} + u^2\\,\\texttt{sigmaddot0}\\,/\\,2,\n",
    "\\end{equation}\n",
    "impose an initial condition on $\\psi_2$ given by\n",
    "\\begin{equation}\n",
    "  \\Im[ψ₂] = -\\Im[ð²σ̄ + σ ∂σ̄/∂u]\n",
    "\\end{equation}\n",
    "so that the mass parameter is real, and then solve for the remaining parameters according to\n",
    "\\begin{align}\n",
    "    ψ̇₀ &= -ðψ₁ + 3 σ ψ₂ \\\\\n",
    "    ψ̇₁ &= -ðψ₂ + 2 σ ψ₃ \\\\\n",
    "    ψ̇₂ &= -ðψ₃ + 1 σ ψ₄ \\\\\n",
    "    ψ₃ &= ð ∂σ̄/∂u \\\\\n",
    "    ψ₄ &= - ∂²σ̄/∂u²\n",
    "\\end{align}\n",
    "\n",
    "Sympy can do all the heavy lifting for us, including writing the actual code.  There's a small difficulty with getting $\\eth$ to act like a linear operator, which is why we have the Ð function below."
   ]
  },
  {
   "cell_type": "code",
   "execution_count": 1,
   "metadata": {},
   "outputs": [],
   "source": [
    "import sympy\n",
    "from sympy import init_printing\n",
    "init_printing()\n",
    "\n",
    "u = sympy.symbols('u', real=True)\n",
    "ð = sympy.symbols('ð', cls=sympy.Function)\n",
    "\n",
    "dot = lambda f: sympy.Derivative(f, u, evaluate=True)\n",
    "ddot = lambda f: sympy.Derivative(f, u, u, evaluate=True)\n",
    "integral = lambda f: sympy.Integral(f, u).doit()"
   ]
  },
  {
   "cell_type": "code",
   "execution_count": 2,
   "metadata": {},
   "outputs": [],
   "source": [
    "def Ð(expr, expand=True):\n",
    "    \"\"\"Apply ð and expand by linearity over numbers and u**n\n",
    "    \n",
    "    This is inspired by https://stackoverflow.com/a/56924562/1194883,\n",
    "    which makes clever use of sympy's `expr.replace(filter, func)`\n",
    "    functionality to expand sums inside the argument of ð, and then\n",
    "    I make dumb use of the basic replace functionality (with\n",
    "    wildcards) to expand scalar multiplication, assuming the scalars\n",
    "    are just literal numbers and powers of `u`.\n",
    "    \n",
    "    \"\"\"\n",
    "    import sympy\n",
    "    c = sympy.Wild('c', properties=(lambda x: x.is_Number,))\n",
    "    p = sympy.Wild('p')\n",
    "    w = sympy.Wild('w')\n",
    "    expr = ð(expr)\n",
    "    return expr.expand().replace(\n",
    "        lambda x: x.func == ð,\n",
    "        lambda x: sympy.Add(*[x.func(a) for a in sympy.Add.make_args(x.args[0])])\n",
    "    ).replace(ð(c * u**p * w), c * u**p * ð(w))\n"
   ]
  },
  {
   "cell_type": "code",
   "execution_count": 3,
   "metadata": {},
   "outputs": [],
   "source": [
    "def split_polynomial(expr, string):\n",
    "    import sympy\n",
    "    from sympy.polys.polyfuncs import horner\n",
    "    from sympy.printing.pycode import pycode\n",
    "    from sympy.codegen.ast import Assignment\n",
    "    expr = sympy.Poly(expr, u)\n",
    "    values = [sympy.factor(c) for c in reversed(expr.all_coeffs())]\n",
    "    n_coeffs = len(values)\n",
    "    symbols = sympy.symbols(string+f\"_:{n_coeffs}\")\n",
    "    symbol = sympy.symbols(string)\n",
    "    value = horner(sympy.Poly(reversed(symbols), u))\n",
    "    print('\\n'.join(pycode(Assignment(s, v), allow_unknown_functions=True) for s, v in zip(symbols, values)))\n",
    "    print(pycode(Assignment(symbol, value)))\n",
    "    return value"
   ]
  },
  {
   "cell_type": "code",
   "execution_count": 4,
   "metadata": {},
   "outputs": [
    {
     "name": "stdout",
     "output_type": "stream",
     "text": [
      "ð = lambda x: x.eth\n",
      "conjugate = lambda x: x.bar\n",
      "σ_0 = sigma0\n",
      "σ_1 = sigmadot0\n",
      "σ_2 = (1/2)*sigmaddot0\n",
      "σ = u*(u*σ_2 + σ_1) + σ_0\n",
      "# ψ₄ = -∂²σ̄/∂u²\n",
      "ψ4_0 = -2*conjugate(σ_2)\n",
      "ψ4 = ψ4_0\n",
      "# ψ₃ = ð ∂σ̄/∂u\n",
      "ψ3_0 = ð(conjugate(σ_1))\n",
      "ψ3_1 = 2*ð(conjugate(σ_2))\n",
      "ψ3 = u*ψ3_1 + ψ3_0\n",
      "# ψ₂ = ∫ (-ðψ₃ + σψ₄) du\n",
      "ψ2_0 = psi2\n",
      "ψ2_1 = σ_0*ψ4_0 - ð(ψ3_0)\n",
      "ψ2_2 = -1/2*(-σ_1*ψ4_0 + ð(ψ3_1))\n",
      "ψ2_3 = (1/3)*σ_2*ψ4_0\n",
      "ψ2 = u*(u*(u*ψ2_3 + ψ2_2) + ψ2_1) + ψ2_0\n",
      "# ψ₁ = ∫ (-ðψ₂ + σψ₃) du\n",
      "ψ1_0 = psi1\n",
      "ψ1_1 = σ_0*ψ3_0 - ð(ψ2_0)\n",
      "ψ1_2 = -1/2*(-σ_0*ψ3_1 - σ_1*ψ3_0 + ð(ψ2_1))\n",
      "ψ1_3 = -1/3*(-σ_1*ψ3_1 - σ_2*ψ3_0 + ð(ψ2_2))\n",
      "ψ1_4 = -1/4*(-σ_2*ψ3_1 + ð(ψ2_3))\n",
      "ψ1 = u*(u*(u*(u*ψ1_4 + ψ1_3) + ψ1_2) + ψ1_1) + ψ1_0\n",
      "# ψ₀ = ∫ (-ðψ₁ + σψ₂) du\n",
      "ψ0_0 = psi0\n",
      "ψ0_1 = σ_0*ψ2_0 - ð(ψ1_0)\n",
      "ψ0_2 = -1/2*(-σ_0*ψ2_1 - σ_1*ψ2_0 + ð(ψ1_1))\n",
      "ψ0_3 = -1/3*(-σ_0*ψ2_2 - σ_1*ψ2_1 - σ_2*ψ2_0 + ð(ψ1_2))\n",
      "ψ0_4 = -1/4*(-σ_0*ψ2_3 - σ_1*ψ2_2 - σ_2*ψ2_1 + ð(ψ1_3))\n",
      "ψ0_5 = -1/5*(-σ_1*ψ2_3 - σ_2*ψ2_2 + ð(ψ1_4))\n",
      "ψ0_6 = (1/6)*σ_2*ψ2_3\n",
      "ψ0 = u*(u*(u*(u*(u*(u*ψ0_6 + ψ0_5) + ψ0_4) + ψ0_3) + ψ0_2) + ψ0_1) + ψ0_0\n"
     ]
    }
   ],
   "source": [
    "print('ð = lambda x: x.eth')\n",
    "print('conjugate = lambda x: x.bar')\n",
    "σ = split_polynomial(sympy.symbols('sigma0') + u * sympy.symbols('sigmadot0') + u**2 * sympy.symbols('sigmaddot0') / 2, 'σ')\n",
    "print('# ψ₄ = -∂²σ̄/∂u²')\n",
    "ψ4 = split_polynomial(-ddot(σ.conjugate()), 'ψ4')\n",
    "print('# ψ₃ = ð ∂σ̄/∂u')\n",
    "ψ3 = split_polynomial(Ð(dot(σ.conjugate())), 'ψ3')\n",
    "print('# ψ₂ = ∫ (-ðψ₃ + σψ₄) du')\n",
    "ψ̇2 = sympy.collect(sympy.expand(-Ð(ψ3) + σ*ψ4), u)\n",
    "ψ2 = split_polynomial(integral(ψ̇2) + sympy.symbols('psi2'), 'ψ2')\n",
    "print('# ψ₁ = ∫ (-ðψ₂ + σψ₃) du')\n",
    "ψ̇1 = sympy.collect(sympy.expand(-Ð(ψ2) + σ*ψ3), u)\n",
    "ψ1 = split_polynomial(integral(ψ̇1) + sympy.symbols('psi1'), 'ψ1')\n",
    "print('# ψ₀ = ∫ (-ðψ₁ + σψ₂) du')\n",
    "ψ̇0 = sympy.collect(sympy.expand(-Ð(ψ1) + σ*ψ2), u)\n",
    "ψ0 = split_polynomial(integral(ψ̇0) + sympy.symbols('psi0'), 'ψ0')"
   ]
  },
  {
   "cell_type": "code",
   "execution_count": null,
   "metadata": {},
   "outputs": [],
   "source": []
  }
 ],
 "metadata": {
  "kernelspec": {
   "display_name": "Python 3",
   "language": "python",
   "name": "python3"
  },
  "language_info": {
   "codemirror_mode": {
    "name": "ipython",
    "version": 3
   },
   "file_extension": ".py",
   "mimetype": "text/x-python",
   "name": "python",
   "nbconvert_exporter": "python",
   "pygments_lexer": "ipython3",
   "version": "3.8.1"
  }
 },
 "nbformat": 4,
 "nbformat_minor": 4
}
