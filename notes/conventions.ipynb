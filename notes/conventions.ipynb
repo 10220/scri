{
 "cells": [
  {
   "cell_type": "markdown",
   "metadata": {},
   "source": [
    "Considerations for defining consistent conventions\n",
    "* Are we talking about $\\mathscr{I}^+$ or $\\mathscr{I}^-$?\n",
    "* metric signature\n",
    "* Riemann definition\n",
    "* Weyl tensor (I *think* this definition is actually universal, but the result depends on the metric and Riemann definitions.)\n",
    "* Weyl spinor (There's a stray minus sign that I'm not sure is universal.)\n",
    "* tetrad (All sorts of non-uniform factors of $\\pm 1$ and $2^{\\pm 1/2}$.)\n",
    "  * $l$\n",
    "  * $m$\n",
    "  * $\\bar{m}$\n",
    "  * $n$\n",
    "* spinor dyad (I believe these are universally related to the tetrad, but I'm not sure.)\n",
    "* Weyl components (Usually, the differences boil down to an overall sign, but there are exceptions that may or may not be degenerate with the sign of $m$.)\n",
    "  * $Ψ_0$\n",
    "  * $Ψ_1$\n",
    "  * $Ψ_2$\n",
    "  * $Ψ_3$\n",
    "  * $Ψ_4$\n",
    "* supertranslation (Is it $u+\\alpha$ or $u-\\alpha$?)\n",
    "* Bondi metric components\n",
    "* ð (Factors of $\\sqrt{2}$ abound.  And what about at $\\mathscr{I}$?)\n",
    "* spherical coordinates (Presumably $\\theta$ is the polar angle and $\\phi$ is the azimuthal one...)\n",
    "* stereographic coordinates (Taken from North or South pole?  Is sphere centered on the origin, or is the opposite pole at the origin?)\n",
    "* P (Is there a factor of 1/2 or not?)"
   ]
  },
  {
   "cell_type": "markdown",
   "metadata": {},
   "source": [
    "We can probably all agree on Cartesian coordinates.  [I doubt that the volume form will come into anything, but this would be the entry point for that discussion.]  Given those, we can define spherical and stereographic coordinates, and then use those coordinates to express our \n",
    "\n",
    "$\\newcommand{\\convention}[1]{f_{#1}}$\n",
    "\n",
    "We parametrize the metric signature by $\\convention{g} = \\pm 1$ if we can express the metric as\n",
    "\\begin{align}\n",
    "  \\convention{g}\\, \\mathbf{g}(\\mathbf{v}, \\mathbf{w})\n",
    "  &=\n",
    "  \\begin{pmatrix} v_0 & v_1 & v_2 & v_3 \\end{pmatrix}\n",
    "  S \\begin{pmatrix} -1 & 0 & 0 & 0 \\\\ 0 & 1 & 0 & 0 \\\\ 0 & 0 & 1 & 0 \\\\ 0 & 0 & 0 & 1 \\end{pmatrix} S^T\n",
    "  \\begin{pmatrix} w_0 \\\\ w_1 \\\\ w_2 \\\\ w_3 \\end{pmatrix},\n",
    "\\end{align}\n",
    "for some invertible matrix $S$, where the indices $(0, 1, 2, 3)$ are taken with respect to any basis.  Sylvester's law of inertia tells us that this uniquely defines $\\convention{g}$ (assuming that it can only be $\\pm 1$).  A spacetime is defined by its manifold structure and the existence of a special tensor — the metric $\\mathbf{g}$.  There are never any topological or differential obstructions to defining another tensor given by $-\\mathbf{g}$, and nothing changes about the covariant derivative operator, so it makes perfect sense to think of different choices of signatures as just different choices for which of these tensors we choose to label $\\mathbf{g}$.  Under this interpretation, there are two different choices of musical isomorphisms — identifications between vectors and one-forms.  This may seem strange, given that the vectors and one-forms themselves are invariant objects.  Nothing has changed about that; we're just identifying them in two different ways.  This will only cause problems if we define a one-form (respectively, vector) geometrically, and then use the corresponding vector (respectively, one-form) without remembering that we have chosen how to relate them.  This should cancel out if contractions are taken properly.\n",
    "\n",
    "The idea behind this factor is that anyone should be able to insert their own $\\mathbf{g}$ into the equation above, and then adjust the value of $\\convention{g}$ so that the equation is true.  Then, if — using my own conventions — I produce an expression in which $g$ appears explicitly, it is implicitly equal to $\\convention{g}\\, g$, except that my convention is to use $\\convention{g} = 1$, so I have dropped it.  The factor of $\\convention{g}$ can then be re-inserted and set to something other than $1$ for anyone whose conventions differ, and the expression should produce the same result in their system.\n",
    "\n",
    "We parametrize the Riemann tensor convention by $\\convention{R}$ so that for any one-form $\\omega$, we have\n",
    "\\begin{align}\n",
    "  \\convention{R} {R_{abc}}^d \\omega_d &= \\nabla_a \\nabla_b \\omega_c - \\nabla_b \\nabla_a \\omega_c.\n",
    "\\end{align}\n",
    "This necessarily implies that for any vector $v$ we have\n",
    "\\begin{align}\n",
    "  \\convention{R} {R_{abc}}^d v^c &= -\\nabla_a \\nabla_b v^d + \\nabla_b \\nabla_a v^d.\n",
    "\\end{align}\n",
    "[There's also possible ambiguity in the definition of the Ricci tensor, but that's always 0 to me.]  As with the metric, this means that if I derive an expression containing ${R_{abc}}^d$, it is implicitly equal to the same expression with $\\convention{R} {R_{abc}}^d$.  Anyone using $\\convention{R} \\neq 1$ should re-insert this factor.\n",
    "\n",
    "There is surely no dispute about the relation $R_{abcd} = {R_{abc}}^e g_{ed}$, but we might rewrite this as\n",
    "\\begin{align}\n",
    "  \\convention{g} \\convention{R} R_{abcd} &= \\convention{g} \\convention{R} {R_{abc}}^e g_{ed},\n",
    "\\end{align}\n",
    "which gives the appropriate substitution.  That is, if I derive an equation with my own conventions that results in an expression involving $R_{abcd}$, another person using different conventions should use that equation only after substituting $R_{abcd} \\to \\convention{g} \\convention{R} R_{abcd}$.  In particular, the Weyl tensor is defined as $C_{abcd} = R_{abcd} + \\ldots$ (where $\\ldots$ are terms that are 0 to me), which means that we have to substitute $C_{abcd} \\to \\convention{g} \\convention{R} C_{abcd}$."
   ]
  },
  {
   "cell_type": "code",
   "execution_count": null,
   "metadata": {},
   "outputs": [],
   "source": []
  },
  {
   "cell_type": "markdown",
   "metadata": {},
   "source": [
    "# Spherical vs. stereographic basis vectors"
   ]
  },
  {
   "cell_type": "code",
   "execution_count": 1,
   "metadata": {},
   "outputs": [],
   "source": [
    "import sympy\n",
    "from sympy import symbols, sin, cos, exp, sqrt, cot, pi, I\n",
    "from sympy.diffgeom import Manifold, Patch, CoordSystem, TensorProduct, vectors_in_basis\n",
    "from sympy.diffgeom.rn import R2, R2_p, R2_r, R2_origin\n",
    "from sympy import init_printing\n",
    "init_printing()"
   ]
  },
  {
   "cell_type": "code",
   "execution_count": 2,
   "metadata": {},
   "outputs": [],
   "source": [
    "rectangular = R2_r  # CoordSystem('rectangular', Patch(R2_origin, Manifold('R**2', 2)), ('x', 'y'))\n",
    "polar = R2_p  # CoordSystem('polar', Patch(R2_origin, Manifold('R**2', 2)), ('r', 'theta'))\n",
    "stereographic = CoordSystem('stereographic', R2_r.patch, (r'\\zeta', r'\\bar{\\zeta}'))"
   ]
  },
  {
   "cell_type": "code",
   "execution_count": 7,
   "metadata": {},
   "outputs": [],
   "source": [
    "S2 = Manifold('S²', 2)\n",
    "regular_points = Patch('regular', S2)\n",
    "spherical = CoordSystem('spherical', regular_points, (r\"\\theta\", r\"\\phi\"))\n",
    "stereographic = CoordSystem('stereographic', regular_points, (r\"\\zeta\", r\"\\bar{\\zeta}\"))\n",
    "\n",
    "ζ_p, ζ̄_p = symbols(r\"\\zeta_p, \\bar{\\zeta}_p\")\n",
    "θ_p, ϕ_p = symbols(r\"\\theta_p, \\phi_p\", real=True)\n",
    "\n",
    "ζ_θ_ϕ = exp(I*ϕ_p) * cot(θ_p/2)\n",
    "P = (1 + stereographic.coord_function(0) * stereographic.coord_function(1)) / 2\n",
    "\n",
    "p_sph = spherical.point([θ_p, ϕ_p])\n",
    "p_ste = stereographic.point([ζ_p, ζ̄_p])"
   ]
  },
  {
   "cell_type": "code",
   "execution_count": 8,
   "metadata": {},
   "outputs": [],
   "source": [
    "spherical.connect_to(\n",
    "    stereographic,\n",
    "    [θ_p, ϕ_p],\n",
    "    [ζ_θ_ϕ, ζ_θ_ϕ.conjugate()]\n",
    ")"
   ]
  },
  {
   "cell_type": "code",
   "execution_count": 9,
   "metadata": {},
   "outputs": [],
   "source": [
    "dθ, dϕ = spherical.base_oneform(0), spherical.base_oneform(1)\n",
    "dζ, dζ̄ = stereographic.base_oneform(0), stereographic.base_oneform(1)\n",
    "\n",
    "g_sph = TensorProduct(dθ, dθ) + sin(spherical.coord_function(0))**2 * TensorProduct(dϕ, dϕ)\n",
    "g_ste = (TensorProduct(dζ, dζ̄) + TensorProduct(dζ̄, dζ)) / 2 / P**2"
   ]
  },
  {
   "cell_type": "code",
   "execution_count": 45,
   "metadata": {},
   "outputs": [],
   "source": [
    "spherical.metric = TensorProduct(dθ, dθ) + sin(spherical.coord_function(0))**2 * TensorProduct(dϕ, dϕ)\n",
    "stereographic.metric = (TensorProduct(dζ, dζ̄) + TensorProduct(dζ̄, dζ)) / 2 / P**2"
   ]
  },
  {
   "cell_type": "code",
   "execution_count": 38,
   "metadata": {},
   "outputs": [],
   "source": [
    "θ̂ᵃ = spherical.base_vector(0)\n",
    "ϕ̂ᵃ = spherical.base_vector(1) / sin(spherical.coord_function(0))\n",
    "θ̂_ₐ = g_sph.rcall(θ̂ᵃ)  # spherical.base_oneform(0)\n",
    "ϕ̂_ₐ = g_sph.rcall(ϕ̂ᵃ)  # sin(spherical.coord_function(0)) * spherical.base_oneform(1)"
   ]
  },
  {
   "cell_type": "code",
   "execution_count": 39,
   "metadata": {},
   "outputs": [],
   "source": [
    "mᵃ = sqrt(2) * P * stereographic.base_vector(0)\n",
    "m̄ᵃ = sqrt(2) * P * stereographic.base_vector(1)\n",
    "m_ₐ = g_ste.rcall(mᵃ)  # stereographic.base_oneform(1) / sqrt(2) / P\n",
    "m̄_ₐ = g_ste.rcall(m̄ᵃ)  # stereographic.base_oneform(0) / sqrt(2) / P"
   ]
  },
  {
   "cell_type": "code",
   "execution_count": 42,
   "metadata": {},
   "outputs": [
    {
     "data": {
      "image/png": "[encoded data removed]",
      "text/latex": [
       "$\\displaystyle g{\\left(\\sqrt{2} \\left(\\frac{\\mathbf{\\bar{\\zeta}} \\mathbf{\\zeta}}{2} + \\frac{1}{2}\\right) \\partial_{\\zeta} \\otimes \\sqrt{2} \\left(\\frac{\\mathbf{\\bar{\\zeta}} \\mathbf{\\zeta}}{2} + \\frac{1}{2}\\right) \\partial_{\\zeta} \\right)} = 0$"
      ],
      "text/plain": [
       " ⎛⎛   ⎛\\bar{\\zeta}⋅\\zeta   1⎞        ⎞ ⎛   ⎛\\bar{\\zeta}⋅\\zeta   1⎞        ⎞⎞  \n",
       "g⎜⎜√2⋅⎜───────────────── + ─⎟⋅∂_\\zeta⎟⊗⎜√2⋅⎜───────────────── + ─⎟⋅∂_\\zeta⎟⎟ =\n",
       " ⎝⎝   ⎝        2           2⎠        ⎠ ⎝   ⎝        2           2⎠        ⎠⎠  \n",
       "\n",
       "  \n",
       " 0\n",
       "  "
      ]
     },
     "metadata": {},
     "output_type": "display_data"
    },
    {
     "data": {
      "image/png": "[encoded data removed]",
      "text/latex": [
       "$\\displaystyle g{\\left(\\sqrt{2} \\left(\\frac{\\mathbf{\\bar{\\zeta}} \\mathbf{\\zeta}}{2} + \\frac{1}{2}\\right) \\partial_{\\zeta} \\otimes \\sqrt{2} \\left(\\frac{\\mathbf{\\bar{\\zeta}} \\mathbf{\\zeta}}{2} + \\frac{1}{2}\\right) \\partial_{\\bar{\\zeta}} \\right)} = 1$"
      ],
      "text/plain": [
       " ⎛⎛   ⎛\\bar{\\zeta}⋅\\zeta   1⎞        ⎞ ⎛   ⎛\\bar{\\zeta}⋅\\zeta   1⎞            \n",
       "g⎜⎜√2⋅⎜───────────────── + ─⎟⋅∂_\\zeta⎟⊗⎜√2⋅⎜───────────────── + ─⎟⋅∂_\\bar{\\zet\n",
       " ⎝⎝   ⎝        2           2⎠        ⎠ ⎝   ⎝        2           2⎠            \n",
       "\n",
       "  ⎞⎞    \n",
       "a}⎟⎟ = 1\n",
       "  ⎠⎠    "
      ]
     },
     "metadata": {},
     "output_type": "display_data"
    },
    {
     "data": {
      "image/png": "[encoded data removed]",
      "text/latex": [
       "$\\displaystyle g{\\left(\\sqrt{2} \\left(\\frac{\\mathbf{\\bar{\\zeta}} \\mathbf{\\zeta}}{2} + \\frac{1}{2}\\right) \\partial_{\\bar{\\zeta}} \\otimes \\sqrt{2} \\left(\\frac{\\mathbf{\\bar{\\zeta}} \\mathbf{\\zeta}}{2} + \\frac{1}{2}\\right) \\partial_{\\zeta} \\right)} = 1$"
      ],
      "text/plain": [
       " ⎛⎛   ⎛\\bar{\\zeta}⋅\\zeta   1⎞              ⎞ ⎛   ⎛\\bar{\\zeta}⋅\\zeta   1⎞      \n",
       "g⎜⎜√2⋅⎜───────────────── + ─⎟⋅∂_\\bar{\\zeta}⎟⊗⎜√2⋅⎜───────────────── + ─⎟⋅∂_\\ze\n",
       " ⎝⎝   ⎝        2           2⎠              ⎠ ⎝   ⎝        2           2⎠      \n",
       "\n",
       "  ⎞⎞    \n",
       "ta⎟⎟ = 1\n",
       "  ⎠⎠    "
      ]
     },
     "metadata": {},
     "output_type": "display_data"
    },
    {
     "data": {
      "image/png": "[encoded data removed]",
      "text/latex": [
       "$\\displaystyle g{\\left(\\sqrt{2} \\left(\\frac{\\mathbf{\\bar{\\zeta}} \\mathbf{\\zeta}}{2} + \\frac{1}{2}\\right) \\partial_{\\bar{\\zeta}} \\otimes \\sqrt{2} \\left(\\frac{\\mathbf{\\bar{\\zeta}} \\mathbf{\\zeta}}{2} + \\frac{1}{2}\\right) \\partial_{\\bar{\\zeta}} \\right)} = 0$"
      ],
      "text/plain": [
       " ⎛⎛   ⎛\\bar{\\zeta}⋅\\zeta   1⎞              ⎞ ⎛   ⎛\\bar{\\zeta}⋅\\zeta   1⎞      \n",
       "g⎜⎜√2⋅⎜───────────────── + ─⎟⋅∂_\\bar{\\zeta}⎟⊗⎜√2⋅⎜───────────────── + ─⎟⋅∂_\\ba\n",
       " ⎝⎝   ⎝        2           2⎠              ⎠ ⎝   ⎝        2           2⎠      \n",
       "\n",
       "        ⎞⎞    \n",
       "r{\\zeta}⎟⎟ = 0\n",
       "        ⎠⎠    "
      ]
     },
     "metadata": {},
     "output_type": "display_data"
    }
   ],
   "source": [
    "g = sympy.Function('g')\n",
    "\n",
    "for a, b in [[mᵃ, mᵃ], [mᵃ, m̄ᵃ], [m̄ᵃ, mᵃ], [m̄ᵃ, m̄ᵃ]]:\n",
    "    display(sympy.Eq(g(TensorProduct(a, b)), sympy.simplify(g_ste.rcall(a, b))))"
   ]
  },
  {
   "cell_type": "code",
   "execution_count": 43,
   "metadata": {},
   "outputs": [
    {
     "data": {
      "image/png": "[encoded data removed]",
      "text/latex": [
       "$\\displaystyle g{\\left(\\partial_{\\theta} \\otimes \\partial_{\\theta} \\right)} = 1$"
      ],
      "text/plain": [
       "g(∂_\\theta⊗∂_\\theta) = 1"
      ]
     },
     "metadata": {},
     "output_type": "display_data"
    },
    {
     "data": {
      "image/png": "[encoded data removed]",
      "text/latex": [
       "$\\displaystyle g{\\left(\\partial_{\\theta} \\otimes \\frac{\\partial_{\\phi}}{\\sin{\\left(\\mathbf{\\theta} \\right)}} \\right)} = 0$"
      ],
      "text/plain": [
       " ⎛         ⎛   ∂_\\phi  ⎞⎞    \n",
       "g⎜∂_\\theta⊗⎜───────────⎟⎟ = 0\n",
       " ⎝         ⎝sin(\\theta)⎠⎠    "
      ]
     },
     "metadata": {},
     "output_type": "display_data"
    },
    {
     "data": {
      "image/png": "[encoded data removed]",
      "text/latex": [
       "$\\displaystyle g{\\left(\\frac{\\partial_{\\phi}}{\\sin{\\left(\\mathbf{\\theta} \\right)}} \\otimes \\partial_{\\theta} \\right)} = 0$"
      ],
      "text/plain": [
       " ⎛⎛   ∂_\\phi  ⎞         ⎞    \n",
       "g⎜⎜───────────⎟⊗∂_\\theta⎟ = 0\n",
       " ⎝⎝sin(\\theta)⎠         ⎠    "
      ]
     },
     "metadata": {},
     "output_type": "display_data"
    },
    {
     "data": {
      "image/png": "[encoded data removed]",
      "text/latex": [
       "$\\displaystyle g{\\left(\\frac{\\partial_{\\phi}}{\\sin{\\left(\\mathbf{\\theta} \\right)}} \\otimes \\frac{\\partial_{\\phi}}{\\sin{\\left(\\mathbf{\\theta} \\right)}} \\right)} = 1$"
      ],
      "text/plain": [
       " ⎛⎛   ∂_\\phi  ⎞ ⎛   ∂_\\phi  ⎞⎞    \n",
       "g⎜⎜───────────⎟⊗⎜───────────⎟⎟ = 1\n",
       " ⎝⎝sin(\\theta)⎠ ⎝sin(\\theta)⎠⎠    "
      ]
     },
     "metadata": {},
     "output_type": "display_data"
    }
   ],
   "source": [
    "for a, b in [[θ̂, θ̂], [θ̂, ϕ̂], [ϕ̂, θ̂], [ϕ̂, ϕ̂]]:\n",
    "    display(sympy.Eq(g(TensorProduct(a, b)), sympy.simplify(g_sph.rcall(a, b))))"
   ]
  },
  {
   "cell_type": "code",
   "execution_count": 27,
   "metadata": {},
   "outputs": [
    {
     "data": {
      "image/png": "[encoded data removed]",
      "text/latex": [
       "$\\displaystyle \\left( 0, \\  1, \\  1, \\  0\\right)$"
      ],
      "text/plain": [
       "(0, 1, 1, 0)"
      ]
     },
     "execution_count": 27,
     "metadata": {},
     "output_type": "execute_result"
    }
   ],
   "source": [
    "m_ₐ.rcall(mᵃ), m_ₐ.rcall(m̄ᵃ), m̄_ₐ.rcall(mᵃ), m̄_ₐ.rcall(m̄ᵃ)"
   ]
  },
  {
   "cell_type": "code",
   "execution_count": null,
   "metadata": {},
   "outputs": [],
   "source": []
  },
  {
   "cell_type": "code",
   "execution_count": null,
   "metadata": {},
   "outputs": [],
   "source": []
  },
  {
   "cell_type": "code",
   "execution_count": 64,
   "metadata": {},
   "outputs": [],
   "source": [
    "def convert_vector(v, from_sys, to_sys, to_point):\n",
    "    trig_abs_subs = {sympy.Abs(cot(θ_p/2)): cot(θ_p/2)}\n",
    "    vprime = sympy.simplify(vectors_in_basis(v, to_sys))\n",
    "    return sum(sympy.simplify(ω(vprime).rcall(to_point).subs(trig_abs_subs)) * v\n",
    "               for v, ω in zip(to_sys.base_vectors(), to_sys.base_oneforms()))"
   ]
  },
  {
   "cell_type": "code",
   "execution_count": 65,
   "metadata": {},
   "outputs": [
    {
     "data": {
      "image/png": "[encoded data removed]",
      "text/latex": [
       "$\\displaystyle \\left( \\frac{\\sqrt{2} e^{- i \\phi_p} \\left(\\partial_{\\theta} - \\frac{i \\partial_{\\phi}}{\\sin{\\left(\\theta_p \\right)}}\\right)}{2}, \\  \\frac{\\sqrt{2} e^{i \\phi_p} \\left(\\partial_{\\theta} + \\frac{i \\partial_{\\phi}}{\\sin{\\left(\\theta_p \\right)}}\\right)}{2}\\right)$"
      ],
      "text/plain": [
       "⎛    -ⅈ⋅\\phiₚ ⎛             ⅈ⋅∂_\\phi  ⎞      ⅈ⋅\\phiₚ ⎛             ⅈ⋅∂_\\phi  ⎞\n",
       "⎜√2⋅ℯ        ⋅⎜∂_\\theta - ────────────⎟  √2⋅ℯ       ⋅⎜∂_\\theta + ────────────⎟\n",
       "⎜             ⎝           sin(\\thetaₚ)⎠              ⎝           sin(\\thetaₚ)⎠\n",
       "⎜──────────────────────────────────────, ─────────────────────────────────────\n",
       "⎝                  2                                       2                  \n",
       "\n",
       "⎞\n",
       "⎟\n",
       "⎟\n",
       "⎟\n",
       "⎠"
      ]
     },
     "execution_count": 65,
     "metadata": {},
     "output_type": "execute_result"
    }
   ],
   "source": [
    "sympy.simplify(convert_vector(mᵃ, stereographic, spherical, p_sph)), sympy.simplify(convert_vector(m̄ᵃ, stereographic, spherical, p_sph))"
   ]
  },
  {
   "cell_type": "markdown",
   "metadata": {},
   "source": [
    "This looks bad.  It looks like we've got $m$ and $\\bar{m}$ mixed up.  Let's try this manually.\n",
    "\n",
    "Moreschi's Eq. (A47a) is\n",
    "\\begin{equation}\n",
    "  \\hat{m}^a = \\sqrt{2} P \\left( \\frac{\\partial} {\\partial \\zeta} \\right)^a\n",
    "\\end{equation}\n",
    "I drop the hat, and Moreschi also declares $P \\equiv \\frac{1}{2}(1 + \\zeta \\bar{\\zeta}) = 1/(1-\\cos \\theta)$."
   ]
  },
  {
   "cell_type": "code",
   "execution_count": 67,
   "metadata": {},
   "outputs": [
    {
     "data": {
      "image/png": "[encoded data removed]",
      "text/latex": [
       "$\\displaystyle \\left[ \\left( - 2 \\operatorname{acot}{\\left(\\sqrt{\\bar{\\zeta}_p \\zeta_p} \\right)}, \\  - i \\log{\\left(- \\frac{\\sqrt{\\bar{\\zeta}_p \\zeta_p}}{\\bar{\\zeta}_p} \\right)}\\right), \\  \\left( 2 \\operatorname{acot}{\\left(\\sqrt{\\bar{\\zeta}_p \\zeta_p} \\right)}, \\  - i \\log{\\left(\\frac{\\sqrt{\\bar{\\zeta}_p \\zeta_p}}{\\bar{\\zeta}_p} \\right)}\\right)\\right]$"
      ],
      "text/plain": [
       "⎡⎛                                        ⎛   _____________________ ⎞⎞  ⎛     \n",
       "⎢⎜       ⎛  _____________________⎞        ⎜-╲╱ \\bar{\\zeta}ₚ⋅\\zetaₚ  ⎟⎟  ⎜     \n",
       "⎢⎜-2⋅acot⎝╲╱ \\bar{\\zeta}ₚ⋅\\zetaₚ ⎠, -ⅈ⋅log⎜─────────────────────────⎟⎟, ⎜2⋅aco\n",
       "⎣⎝                                        ⎝       \\bar{\\zeta}ₚ      ⎠⎠  ⎝     \n",
       "\n",
       "                                  ⎛  _____________________⎞⎞⎤\n",
       " ⎛  _____________________⎞        ⎜╲╱ \\bar{\\zeta}ₚ⋅\\zetaₚ ⎟⎟⎥\n",
       "t⎝╲╱ \\bar{\\zeta}ₚ⋅\\zetaₚ ⎠, -ⅈ⋅log⎜───────────────────────⎟⎟⎥\n",
       "                                  ⎝      \\bar{\\zeta}ₚ     ⎠⎠⎦"
      ]
     },
     "execution_count": 67,
     "metadata": {},
     "output_type": "execute_result"
    }
   ],
   "source": [
    "sympy.solve((sympy.Eq(ζ_p, ζ_θ_ϕ), sympy.Eq(ζ̄_p, ζ_θ_ϕ.conjugate())), (θ_p, ϕ_p))"
   ]
  },
  {
   "cell_type": "code",
   "execution_count": 61,
   "metadata": {},
   "outputs": [
    {
     "data": {
      "image/png": "[encoded data removed]",
      "text/latex": [
       "$\\displaystyle - \\frac{\\sqrt{\\bar{\\zeta}_p \\zeta_p}}{\\zeta_p \\left(\\bar{\\zeta}_p \\zeta_p + 1\\right)}$"
      ],
      "text/plain": [
       "      _____________________     \n",
       "   -╲╱ \\bar{\\zeta}ₚ⋅\\zetaₚ      \n",
       "────────────────────────────────\n",
       "\\zetaₚ⋅(\\bar{\\zeta}ₚ⋅\\zetaₚ + 1)"
      ]
     },
     "execution_count": 61,
     "metadata": {},
     "output_type": "execute_result"
    }
   ],
   "source": [
    "sympy.simplify(sympy.Derivative(2*sympy.acot(sympy.sqrt(ζ_p * ζ̄_p)), ζ_p).doit())"
   ]
  },
  {
   "cell_type": "code",
   "execution_count": 62,
   "metadata": {},
   "outputs": [
    {
     "data": {
      "image/png": "[encoded data removed]",
      "text/latex": [
       "$\\displaystyle - \\frac{i}{2 \\zeta_p}$"
      ],
      "text/plain": [
       "  -ⅈ    \n",
       "────────\n",
       "2⋅\\zetaₚ"
      ]
     },
     "execution_count": 62,
     "metadata": {},
     "output_type": "execute_result"
    }
   ],
   "source": [
    "sympy.simplify(sympy.Derivative(-I*sympy.log(sympy.sqrt(ζ_p / ζ̄_p)), ζ_p).doit())"
   ]
  },
  {
   "cell_type": "markdown",
   "metadata": {},
   "source": [
    "\\begin{align}\n",
    "  \\sqrt{2} P \\frac{\\partial} {\\partial \\zeta}\n",
    "  &=\n",
    "  \\sqrt{2}P \\frac{\\partial \\theta} {\\partial \\zeta} \\frac{\\partial} {\\partial \\theta}\n",
    "  +\\frac{\\sqrt{2}}{1-\\cos\\theta} \\frac{\\partial \\phi} {\\partial \\zeta} \\frac{\\partial} {\\partial \\phi}\n",
    "  \\\\&=\n",
    "  -\\sqrt{2}P \\sqrt{\\frac{\\bar{\\zeta}} {\\zeta}} \\frac{1} {2P} \\frac{\\partial} {\\partial \\theta}\n",
    "  -\\frac{\\sqrt{2}}{1-\\cos\\theta} \\frac{i} {2\\zeta} \\frac{\\partial} {\\partial \\phi}\n",
    "  \\\\&=\n",
    "  -e^{-i\\phi} \\frac{1} {\\sqrt{2}} \\frac{\\partial} {\\partial \\theta}\n",
    "  -e^{-i\\phi}\\frac{1}{(1-\\cos\\theta)\\cot \\frac{\\theta}{2}} \\frac{i} {\\sqrt{2}} \\frac{\\partial} {\\partial \\phi}\n",
    "  \\\\&=\n",
    "  -e^{-i\\phi} \\frac{1} {\\sqrt{2}} \\frac{\\partial} {\\partial \\theta}\n",
    "  -e^{-i\\phi} \\frac{i} {\\sqrt{2}} \\frac{1}{\\sin\\theta} \\frac{\\partial} {\\partial \\phi}\n",
    "  \\\\&=\n",
    "  -e^{-i\\phi} \\left[ \\frac{1} {\\sqrt{2}} \\left( \\frac{\\partial} {\\partial \\theta}\n",
    "  +i\\frac{1}{\\sin\\theta} \\frac{\\partial} {\\partial \\phi} \\right) \\right]\n",
    "\\end{align}"
   ]
  },
  {
   "cell_type": "markdown",
   "metadata": {},
   "source": [
    "This looks better, because we at least agree on the meaning of $m$ up to a constant factor.  Here, I've chosen the solution for $\\theta(\\zeta, \\bar{\\zeta}), \\phi(\\zeta, \\bar{\\zeta})$ to give positive values of $\\theta$ — which is certainly the right choice.  If I had made the other choice, I would have gotten a relative sign in front of $\\partial_\\theta$, which is what we saw above; I guess sympy just automatically chose the wrong sign here.  These are the relevant derivatives for that wrong choice:"
   ]
  },
  {
   "cell_type": "code",
   "execution_count": 70,
   "metadata": {},
   "outputs": [
    {
     "data": {
      "image/png": "[encoded data removed]",
      "text/latex": [
       "$\\displaystyle \\frac{\\sqrt{\\bar{\\zeta}_p \\zeta_p}}{\\zeta_p \\left(\\bar{\\zeta}_p \\zeta_p + 1\\right)}$"
      ],
      "text/plain": [
       "      _____________________     \n",
       "    ╲╱ \\bar{\\zeta}ₚ⋅\\zetaₚ      \n",
       "────────────────────────────────\n",
       "\\zetaₚ⋅(\\bar{\\zeta}ₚ⋅\\zetaₚ + 1)"
      ]
     },
     "execution_count": 70,
     "metadata": {},
     "output_type": "execute_result"
    }
   ],
   "source": [
    "sympy.simplify(sympy.Derivative(-2*sympy.acot(sympy.sqrt(ζ_p * ζ̄_p)), ζ_p).doit())"
   ]
  },
  {
   "cell_type": "code",
   "execution_count": 69,
   "metadata": {},
   "outputs": [
    {
     "data": {
      "image/png": "[encoded data removed]",
      "text/latex": [
       "$\\displaystyle - \\frac{i}{2 \\zeta_p}$"
      ],
      "text/plain": [
       "  -ⅈ    \n",
       "────────\n",
       "2⋅\\zetaₚ"
      ]
     },
     "execution_count": 69,
     "metadata": {},
     "output_type": "execute_result"
    }
   ],
   "source": [
    "sympy.simplify(sympy.Derivative(-I*sympy.log(-sympy.sqrt(ζ_p / ζ̄_p)), ζ_p).doit())"
   ]
  },
  {
   "cell_type": "markdown",
   "metadata": {},
   "source": [
    "We see that the first switches sign, while the second does not, so this does explain the discrepancy.\n",
    "\n",
    "Just to be sure, let's check that the derivative with respect to $\\bar{\\zeta}$ would really just be the conjugate of this result."
   ]
  },
  {
   "cell_type": "code",
   "execution_count": 71,
   "metadata": {},
   "outputs": [
    {
     "data": {
      "image/png": "[encoded data removed]",
      "text/latex": [
       "$\\displaystyle - \\frac{\\sqrt{\\bar{\\zeta}_p \\zeta_p}}{\\bar{\\zeta}_p \\left(\\bar{\\zeta}_p \\zeta_p + 1\\right)}$"
      ],
      "text/plain": [
       "         _____________________        \n",
       "      -╲╱ \\bar{\\zeta}ₚ⋅\\zetaₚ         \n",
       "──────────────────────────────────────\n",
       "\\bar{\\zeta}ₚ⋅(\\bar{\\zeta}ₚ⋅\\zetaₚ + 1)"
      ]
     },
     "execution_count": 71,
     "metadata": {},
     "output_type": "execute_result"
    }
   ],
   "source": [
    "sympy.simplify(sympy.Derivative(2*sympy.acot(sympy.sqrt(ζ_p * ζ̄_p)), ζ̄_p).doit())"
   ]
  },
  {
   "cell_type": "code",
   "execution_count": 72,
   "metadata": {},
   "outputs": [
    {
     "data": {
      "image/png": "[encoded data removed]",
      "text/latex": [
       "$\\displaystyle \\frac{i}{2 \\bar{\\zeta}_p}$"
      ],
      "text/plain": [
       "      ⅈ       \n",
       "──────────────\n",
       "2⋅\\bar{\\zeta}ₚ"
      ]
     },
     "execution_count": 72,
     "metadata": {},
     "output_type": "execute_result"
    }
   ],
   "source": [
    "sympy.simplify(sympy.Derivative(-I*sympy.log(sympy.sqrt(ζ_p / ζ̄_p)), ζ̄_p).doit())"
   ]
  },
  {
   "cell_type": "markdown",
   "metadata": {},
   "source": [
    "And indeed, both of these are just the conjugates of the derivatives we used above, so that carries through."
   ]
  },
  {
   "cell_type": "code",
   "execution_count": null,
   "metadata": {},
   "outputs": [],
   "source": []
  },
  {
   "cell_type": "code",
   "execution_count": null,
   "metadata": {},
   "outputs": [],
   "source": []
  },
  {
   "cell_type": "markdown",
   "metadata": {},
   "source": [
    "\\begin{align}\n",
    "  u &= t-r & \\Omega &= 1/r \\\\\n",
    "  t &= u - 1/\\Omega & r &= 1/\\Omega\n",
    "\\end{align}"
   ]
  },
  {
   "cell_type": "markdown",
   "metadata": {},
   "source": [
    "\\begin{align}\n",
    "  \\mathbf{n}_{\\text{Moreschi}} &= \\frac{\\partial} {\\partial u}\n",
    "  &\n",
    "  \\mathbf{l}_{\\text{Moreschi}} &= -\\frac{\\partial} {\\partial \\Omega} \n",
    "  \\\\\n",
    "  &= \\frac{\\partial t} {\\partial u} \\frac{\\partial} {\\partial t} + \\frac{\\partial r} {\\partial u} \\frac{\\partial} {\\partial r}\n",
    "  &\n",
    "  &= -\\frac{\\partial t} {\\partial \\Omega} \\frac{\\partial} {\\partial t} - \\frac{\\partial r} {\\partial \\Omega} \\frac{\\partial} {\\partial r}\n",
    "  \\\\\n",
    "  &= \\frac{\\partial} {\\partial t} + \\frac{\\partial} {\\partial r}\n",
    "  &\n",
    "  &= -\\frac{1} {\\Omega^2} \\frac{\\partial} {\\partial t} + \\frac{1} {\\Omega^2} \\frac{\\partial} {\\partial r}\n",
    "  \\\\\n",
    "  &= \\sqrt{2} \\mathbf{n}_{\\text{SXS}}\n",
    "  &\n",
    "  &= -\\frac{\\sqrt{2}} {\\Omega^2} \\mathbf{l}_{\\text{SXS}}\n",
    "\\end{align}"
   ]
  },
  {
   "cell_type": "markdown",
   "metadata": {},
   "source": [
    "\\begin{align}\n",
    "  \\mathbf{n}_{\\text{Moreschi}} &= \\mathbf{n}_{\\text{GLQ}} = \\sqrt{2} \\mathbf{n}_{\\text{SXS}}\n",
    "  \\\\\n",
    "  \\mathbf{l}_{\\text{Moreschi}} &= \\mathbf{l}_{\\text{GLQ}} = -\\sqrt{2} \\mathbf{l}_{\\text{SXS}}\n",
    "  \\\\\n",
    "  \\mathbf{m}_{\\text{Moreschi}} &= - \\frac{1}{\\sqrt{2}} \\mathbf{m}_{\\text{GLQ}} = -\\mathbf{m}_{\\text{SXS}}\n",
    "\\end{align}"
   ]
  },
  {
   "cell_type": "code",
   "execution_count": null,
   "metadata": {},
   "outputs": [],
   "source": []
  },
  {
   "cell_type": "markdown",
   "metadata": {},
   "source": [
    "\\begin{align}\n",
    "  \\mathbf{n}_{\\text{SXS}} &= \\frac{1}{\\sqrt{2}} \\mathbf{n}_{\\text{Moreschi}} = \\frac{1}{\\sqrt{2}} \\mathbf{n}_{\\text{GLQ}}\n",
    "  \\\\\n",
    "  \\mathbf{l}_{\\text{SXS}} &= - \\frac{1}{\\sqrt{2}} \\mathbf{l}_{\\text{Moreschi}} = - \\frac{1}{\\sqrt{2}}\\mathbf{l}_{\\text{GLQ}}\n",
    "  \\\\\n",
    "  \\mathbf{m}_{\\text{SXS}} &= -\\mathbf{m}_{\\text{Moreschi}} = \\frac{1}{\\sqrt{2}} \\mathbf{m}_{\\text{GLQ}}\n",
    "\\end{align}"
   ]
  },
  {
   "cell_type": "markdown",
   "metadata": {},
   "source": [
    "\\begin{align}\n",
    "  \\eth_{\\text{Moreschi}} &= \\eth_{\\text{GHP}} = \\frac{1}{\\sqrt{2}} \\eth_{\\text{GLQ}} = \\frac{1}{\\sqrt{2}} \\eth_{\\text{NP}}\n",
    "\\end{align}"
   ]
  },
  {
   "cell_type": "markdown",
   "metadata": {},
   "source": [
    "I'm not entirely sure about some of these relations, because the overall signs aren't 100% clear to me, but I think at worst we just get one system or another all multiplied by $-1$, which doesn't lead to any inconsistencies."
   ]
  },
  {
   "cell_type": "markdown",
   "metadata": {},
   "source": [
    "\\begin{align}\n",
    "  σ^{\\text{SXS}}\n",
    "  %= γ_{133} = {γ^2}_{33}\n",
    "  %&= m^a_{\\text{SXS}} m^b_{\\text{SXS}} \\nabla_a l_b^{\\text{SXS}}\n",
    "  %&= -\\sqrt{2} m^a_{\\text{Moreschi}} m^b_{\\text{Moreschi}} \\nabla_a l_b^{\\text{Moreschi}}\n",
    "  &= -\\sqrt{2} \\sigma^{\\text{Moreschi}} = \\frac{1}{\\sqrt{2}} \\sigma^{\\text{GLQ}}\n",
    "\\end{align}\n",
    "\n",
    "\\begin{align}\n",
    "  \\Psi_4^{\\text{SXS}}\n",
    "  %= C_{abcd} n^a_{\\text{SXS}} \\bar{m}^b_{\\text{SXS}} n^c_{\\text{SXS}} \\bar{m}^d_{\\text{SXS}}\n",
    "  %= C_{abcd} n^a_{\\text{Moreschi}} \\bar{m}^b_{\\text{Moreschi}} n^c_{\\text{Moreschi}} \\bar{m}^d_{\\text{Moreschi}} / 2\n",
    "  &= \\frac{1}{2} \\Psi_4^{\\text{Moreschi}} = \\frac{1}{4} \\Psi_4^{\\text{GLQ}}\n",
    "  \\\\\n",
    "  \\Psi_3^{\\text{SXS}}\n",
    "  %= C_{abcd} l^a_{\\text{SXS}} n^b_{\\text{SXS}} \\bar{m}^c_{\\text{SXS}} n^d_{\\text{SXS}}\n",
    "  %= C_{abcd} l^a_{\\text{Moreschi}} n^b_{\\text{Moreschi}} \\bar{m}^c_{\\text{Moreschi}} n^d_{\\text{Moreschi}} / 2\\sqrt{2}\n",
    "  &= \\frac{1}{2\\sqrt{2}} \\Psi_3^{\\text{Moreschi}} = -\\frac{1}{4} \\Psi_3^{\\text{GLQ}}\n",
    "  \\\\\n",
    "  \\Psi_2^{\\text{SXS}}\n",
    "  %= C_{abcd} l^a_{\\text{SXS}} m^b_{\\text{SXS}} \\bar{m}^c_{\\text{SXS}} n^d_{\\text{SXS}}\n",
    "  %= C_{abcd} l^a_{\\text{Moreschi}} m^b_{\\text{Moreschi}} \\bar{m}^c_{\\text{Moreschi}} n^d_{\\text{Moreschi}} / -2\n",
    "  &= -\\frac{1}{2} \\Psi_2^{\\text{Moreschi}} = -\\frac{1}{4} \\Psi_2^{\\text{GLQ}}\n",
    "  \\\\\n",
    "  \\Psi_1^{\\text{SXS}}\n",
    "  %= C_{abcd} l^a_{\\text{SXS}} n^b_{\\text{SXS}} l^c_{\\text{SXS}} m^d_{\\text{SXS}}\n",
    "  %= C_{abcd} l^a_{\\text{Moreschi}} n^b_{\\text{Moreschi}} l^c_{\\text{Moreschi}} m^d_{\\text{Moreschi}} / -2\\sqrt{2}\n",
    "  &= -\\frac{1}{2\\sqrt{2}} \\Psi_1^{\\text{Moreschi}} = \\frac{1}{4} \\Psi_1^{\\text{GLQ}}\n",
    "  \\\\\n",
    "  \\Psi_0^{\\text{SXS}}\n",
    "  %= C_{abcd} l^a_{\\text{SXS}} m^b_{\\text{SXS}} l^c_{\\text{SXS}} m^d_{\\text{SXS}}\n",
    "  %= C_{abcd} l^a_{\\text{Moreschi}} m^b_{\\text{Moreschi}} l^c_{\\text{Moreschi}} m^d_{\\text{Moreschi}} / 2\n",
    "  &= \\frac{1}{2} \\Psi_0^{\\text{Moreschi}} = \\frac{1}{4} \\Psi_0^{\\text{GLQ}}\n",
    "\\end{align}"
   ]
  },
  {
   "cell_type": "code",
   "execution_count": null,
   "metadata": {},
   "outputs": [],
   "source": []
  },
  {
   "cell_type": "code",
   "execution_count": null,
   "metadata": {},
   "outputs": [],
   "source": []
  },
  {
   "cell_type": "code",
   "execution_count": null,
   "metadata": {},
   "outputs": [],
   "source": []
  },
  {
   "cell_type": "code",
   "execution_count": null,
   "metadata": {},
   "outputs": [],
   "source": []
  }
 ],
 "metadata": {
  "kernelspec": {
   "display_name": "Python 3",
   "language": "python",
   "name": "python3"
  },
  "language_info": {
   "codemirror_mode": {
    "name": "ipython",
    "version": 3
   },
   "file_extension": ".py",
   "mimetype": "text/x-python",
   "name": "python",
   "nbconvert_exporter": "python",
   "pygments_lexer": "ipython3",
   "version": "3.8.1"
  }
 },
 "nbformat": 4,
 "nbformat_minor": 4
}
